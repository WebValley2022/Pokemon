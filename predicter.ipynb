{
 "cells": [
  {
   "cell_type": "code",
   "execution_count": 1,
   "outputs": [],
   "source": [
    "import numpy as np\n",
    "import pandas as pd\n",
    "import pickle"
   ],
   "metadata": {
    "collapsed": false,
    "pycharm": {
     "name": "#%%\n"
    }
   }
  },
  {
   "cell_type": "code",
   "execution_count": 2,
   "outputs": [],
   "source": [
    "pokemons = pd.read_csv(\"pokedex.csv\")"
   ],
   "metadata": {
    "collapsed": false,
    "pycharm": {
     "name": "#%%\n"
    }
   }
  },
  {
   "cell_type": "code",
   "execution_count": 3,
   "outputs": [],
   "source": [
    "pokemons['Type 2'].replace((np.nan), ('NoType'), inplace=True)\n",
    "type_1 = pokemons['Type 1'].unique()\n",
    "type_2 = pokemons['Type 2'].unique()\n",
    "type_2 = np.delete(type_2, np.where(type_2 == 'NoType'))"
   ],
   "metadata": {
    "collapsed": false,
    "pycharm": {
     "name": "#%%\n"
    }
   }
  },
  {
   "cell_type": "code",
   "execution_count": null,
   "outputs": [],
   "source": [],
   "metadata": {
    "collapsed": false,
    "pycharm": {
     "name": "#%%\n"
    }
   }
  },
  {
   "cell_type": "code",
   "execution_count": 4,
   "outputs": [],
   "source": [
    "pokemon_types = pd.Series(type_1).append(pd.Series(type_2)).unique()"
   ],
   "metadata": {
    "collapsed": false,
    "pycharm": {
     "name": "#%%\n"
    }
   }
  },
  {
   "cell_type": "code",
   "execution_count": 5,
   "outputs": [],
   "source": [
    "mlps = []\n",
    "for i in pokemon_types:\n",
    "    mlps.append(pickle.load(open(f\"ultra_good_models/{i}.sav\", 'rb')))"
   ],
   "metadata": {
    "collapsed": false,
    "pycharm": {
     "name": "#%%\n"
    }
   }
  },
  {
   "cell_type": "code",
   "execution_count": 6,
   "outputs": [],
   "source": [
    "parms = ['HP', 'Attack', 'Defense', 'Sp. Atk', 'Sp. Def', 'Speed', 'Generation']\n",
    "get_parms = []"
   ],
   "metadata": {
    "collapsed": false,
    "pycharm": {
     "name": "#%%\n"
    }
   }
  },
  {
   "cell_type": "code",
   "execution_count": 7,
   "outputs": [
    {
     "name": "stdout",
     "output_type": "stream",
     "text": [
      "Insert the features:\n"
     ]
    }
   ],
   "source": [
    "print('Insert the features:')\n",
    "for i in parms:\n",
    "    parm = \"\"\n",
    "    while not parm.isnumeric():\n",
    "        parm = input(f'      {i}: ')\n",
    "        if parm.isnumeric():\n",
    "            get_parms.append(int(parm))\n",
    "        else:\n",
    "            print('The features must be integer values, retry')\n",
    "\n",
    "is_legendary = \"\"\n",
    "while is_legendary != 'y' and is_legendary != 'n':\n",
    "    is_legendary = input('Is this pokemon legendary? [Y/N]\\n').lower()\n",
    "    if is_legendary == 'y':\n",
    "        get_parms.append(1)\n",
    "    elif is_legendary == 'n':\n",
    "        get_parms.append(0)\n",
    "    else:\n",
    "        print('Choice not allowed!')\n"
   ],
   "metadata": {
    "collapsed": false,
    "pycharm": {
     "name": "#%%\n"
    }
   }
  },
  {
   "cell_type": "code",
   "execution_count": 8,
   "outputs": [],
   "source": [
    "to_predict = [get_parms]"
   ],
   "metadata": {
    "collapsed": false,
    "pycharm": {
     "name": "#%%\n"
    }
   }
  },
  {
   "cell_type": "code",
   "execution_count": 9,
   "outputs": [],
   "source": [
    "predictions = []\n",
    "min_loss_curve = []\n",
    "for index, mlp in enumerate(mlps):\n",
    "    pred = mlp.predict(to_predict)\n",
    "    min_loss_curve.append(min(mlp.loss_curve_))\n",
    "    predictions.append(pred)"
   ],
   "metadata": {
    "collapsed": false,
    "pycharm": {
     "name": "#%%\n"
    }
   }
  },
  {
   "cell_type": "code",
   "execution_count": 12,
   "outputs": [],
   "source": [
    "results = []\n",
    "for index, pred in enumerate(predictions):\n",
    "    if pred == 1:\n",
    "        results.append(index)"
   ],
   "metadata": {
    "collapsed": false,
    "pycharm": {
     "name": "#%%\n"
    }
   }
  },
  {
   "cell_type": "code",
   "execution_count": 13,
   "outputs": [],
   "source": [
    "min_loss_curve_of_results = {}\n",
    "for index in results:\n",
    "    min_loss_curve_of_results.update({index: min_loss_curve[index]})"
   ],
   "metadata": {
    "collapsed": false,
    "pycharm": {
     "name": "#%%\n"
    }
   }
  },
  {
   "cell_type": "code",
   "execution_count": 14,
   "outputs": [],
   "source": [
    "best_results = list(dict(sorted(min_loss_curve_of_results.items(), key=lambda item: item[1])).keys())[:2]"
   ],
   "metadata": {
    "collapsed": false,
    "pycharm": {
     "name": "#%%\n"
    }
   }
  },
  {
   "cell_type": "code",
   "execution_count": 15,
   "outputs": [
    {
     "name": "stdout",
     "output_type": "stream",
     "text": [
      "No pokemon types found\n"
     ]
    }
   ],
   "source": [
    "for index in best_results:\n",
    "    print(pokemon_types[index])\n",
    "\n",
    "if not np.any(predictions):\n",
    "    print('No pokemon types found')"
   ],
   "metadata": {
    "collapsed": false,
    "pycharm": {
     "name": "#%%\n"
    }
   }
  }
 ],
 "metadata": {
  "kernelspec": {
   "display_name": "Python 3",
   "language": "python",
   "name": "python3"
  },
  "language_info": {
   "codemirror_mode": {
    "name": "ipython",
    "version": 2
   },
   "file_extension": ".py",
   "mimetype": "text/x-python",
   "name": "python",
   "nbconvert_exporter": "python",
   "pygments_lexer": "ipython2",
   "version": "2.7.6"
  }
 },
 "nbformat": 4,
 "nbformat_minor": 0
}